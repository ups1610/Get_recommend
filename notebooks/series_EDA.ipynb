{
 "cells": [
  {
   "cell_type": "code",
   "execution_count": 1,
   "metadata": {},
   "outputs": [],
   "source": [
    "import pandas as pd\n",
    "import numpy as np\n",
    "import matplotlib.pyplot as plt\n",
    "import seaborn as sns\n",
    "import warnings\n",
    "warnings.filterwarnings('ignore')"
   ]
  },
  {
   "cell_type": "code",
   "execution_count": 2,
   "metadata": {},
   "outputs": [],
   "source": [
    "df = pd.read_csv('../data/tv_series.csv')"
   ]
  },
  {
   "cell_type": "code",
   "execution_count": 3,
   "metadata": {},
   "outputs": [
    {
     "data": {
      "text/html": [
       "<div>\n",
       "<style scoped>\n",
       "    .dataframe tbody tr th:only-of-type {\n",
       "        vertical-align: middle;\n",
       "    }\n",
       "\n",
       "    .dataframe tbody tr th {\n",
       "        vertical-align: top;\n",
       "    }\n",
       "\n",
       "    .dataframe thead th {\n",
       "        text-align: right;\n",
       "    }\n",
       "</style>\n",
       "<table border=\"1\" class=\"dataframe\">\n",
       "  <thead>\n",
       "    <tr style=\"text-align: right;\">\n",
       "      <th></th>\n",
       "      <th>title</th>\n",
       "      <th>year</th>\n",
       "      <th>cast</th>\n",
       "      <th>rating</th>\n",
       "      <th>genre</th>\n",
       "    </tr>\n",
       "  </thead>\n",
       "  <tbody>\n",
       "    <tr>\n",
       "      <th>0</th>\n",
       "      <td>Power Rangers Operation Overdrive</td>\n",
       "      <td>2007.0</td>\n",
       "      <td>James Beaufort, Caitlin Murphy, Samuell Benta,...</td>\n",
       "      <td>5.4</td>\n",
       "      <td>Action, Adventure, Sci-Fi</td>\n",
       "    </tr>\n",
       "    <tr>\n",
       "      <th>1</th>\n",
       "      <td>The South Westerlies</td>\n",
       "      <td>2020.0</td>\n",
       "      <td>Orla Brady, Eileen Walsh, Steve Wall, Ger Ryan</td>\n",
       "      <td>6.0</td>\n",
       "      <td>Drama</td>\n",
       "    </tr>\n",
       "    <tr>\n",
       "      <th>2</th>\n",
       "      <td>Matthew Gray Gubler: The Unauthorized Documentary</td>\n",
       "      <td>2006.0</td>\n",
       "      <td>Matthew Gray Gubler, Andy Swan, A.J. Cook, Pag...</td>\n",
       "      <td>9.3</td>\n",
       "      <td>Short, Comedy</td>\n",
       "    </tr>\n",
       "    <tr>\n",
       "      <th>3</th>\n",
       "      <td>All In</td>\n",
       "      <td>2003.0</td>\n",
       "      <td>Song Hye-kyo, Lee Byung-hun, Ji Sung, Jeong-wo...</td>\n",
       "      <td>7.8</td>\n",
       "      <td>Action, Drama, Romance</td>\n",
       "    </tr>\n",
       "    <tr>\n",
       "      <th>4</th>\n",
       "      <td>Billy the Exterminator</td>\n",
       "      <td>2009.0</td>\n",
       "      <td>Billy Bretherton, Rick Bretherton, Donnie Bret...</td>\n",
       "      <td>6.1</td>\n",
       "      <td>Reality-TV</td>\n",
       "    </tr>\n",
       "    <tr>\n",
       "      <th>...</th>\n",
       "      <td>...</td>\n",
       "      <td>...</td>\n",
       "      <td>...</td>\n",
       "      <td>...</td>\n",
       "      <td>...</td>\n",
       "    </tr>\n",
       "    <tr>\n",
       "      <th>40094</th>\n",
       "      <td>Kian and JC Show</td>\n",
       "      <td>2014.0</td>\n",
       "      <td>David Alvarez, Franny Arrieta, Colby Brock, J....</td>\n",
       "      <td>NaN</td>\n",
       "      <td>Comedy</td>\n",
       "    </tr>\n",
       "    <tr>\n",
       "      <th>40095</th>\n",
       "      <td>Keeping It 100</td>\n",
       "      <td>2016.0</td>\n",
       "      <td>Atheana Ritchie, Storie Blake, Andrew Dubitsky...</td>\n",
       "      <td>7.1</td>\n",
       "      <td>Short, Comedy</td>\n",
       "    </tr>\n",
       "    <tr>\n",
       "      <th>40096</th>\n",
       "      <td>Apradhi Kaun</td>\n",
       "      <td>2006.0</td>\n",
       "      <td>Ashutosh Rana, Lata Sabharwal, Ajay Trehan, Sa...</td>\n",
       "      <td>NaN</td>\n",
       "      <td>Crime</td>\n",
       "    </tr>\n",
       "    <tr>\n",
       "      <th>40097</th>\n",
       "      <td>Betty Toons</td>\n",
       "      <td>2002.0</td>\n",
       "      <td>Alejandra Borrero, Alberto León Jaramillo, And...</td>\n",
       "      <td>6.7</td>\n",
       "      <td>Animation</td>\n",
       "    </tr>\n",
       "    <tr>\n",
       "      <th>40098</th>\n",
       "      <td>Kuuchuu Buranko</td>\n",
       "      <td>2009.0</td>\n",
       "      <td>Romi Park, Yûji Mitsuya, Yumi Sugimoto, Kenji ...</td>\n",
       "      <td>7.4</td>\n",
       "      <td>Animation, Comedy, Drama</td>\n",
       "    </tr>\n",
       "  </tbody>\n",
       "</table>\n",
       "<p>40099 rows × 5 columns</p>\n",
       "</div>"
      ],
      "text/plain": [
       "                                                   title    year  \\\n",
       "0                      Power Rangers Operation Overdrive  2007.0   \n",
       "1                                   The South Westerlies  2020.0   \n",
       "2      Matthew Gray Gubler: The Unauthorized Documentary  2006.0   \n",
       "3                                                 All In  2003.0   \n",
       "4                                 Billy the Exterminator  2009.0   \n",
       "...                                                  ...     ...   \n",
       "40094                                   Kian and JC Show  2014.0   \n",
       "40095                                     Keeping It 100  2016.0   \n",
       "40096                                       Apradhi Kaun  2006.0   \n",
       "40097                                        Betty Toons  2002.0   \n",
       "40098                                    Kuuchuu Buranko  2009.0   \n",
       "\n",
       "                                                    cast  rating  \\\n",
       "0      James Beaufort, Caitlin Murphy, Samuell Benta,...     5.4   \n",
       "1         Orla Brady, Eileen Walsh, Steve Wall, Ger Ryan     6.0   \n",
       "2      Matthew Gray Gubler, Andy Swan, A.J. Cook, Pag...     9.3   \n",
       "3      Song Hye-kyo, Lee Byung-hun, Ji Sung, Jeong-wo...     7.8   \n",
       "4      Billy Bretherton, Rick Bretherton, Donnie Bret...     6.1   \n",
       "...                                                  ...     ...   \n",
       "40094  David Alvarez, Franny Arrieta, Colby Brock, J....     NaN   \n",
       "40095  Atheana Ritchie, Storie Blake, Andrew Dubitsky...     7.1   \n",
       "40096  Ashutosh Rana, Lata Sabharwal, Ajay Trehan, Sa...     NaN   \n",
       "40097  Alejandra Borrero, Alberto León Jaramillo, And...     6.7   \n",
       "40098  Romi Park, Yûji Mitsuya, Yumi Sugimoto, Kenji ...     7.4   \n",
       "\n",
       "                                       genre  \n",
       "0      Action, Adventure, Sci-Fi              \n",
       "1                          Drama              \n",
       "2                  Short, Comedy              \n",
       "3         Action, Drama, Romance              \n",
       "4                     Reality-TV              \n",
       "...                                      ...  \n",
       "40094                     Comedy              \n",
       "40095              Short, Comedy              \n",
       "40096                      Crime              \n",
       "40097                  Animation              \n",
       "40098   Animation, Comedy, Drama              \n",
       "\n",
       "[40099 rows x 5 columns]"
      ]
     },
     "execution_count": 3,
     "metadata": {},
     "output_type": "execute_result"
    }
   ],
   "source": [
    "df"
   ]
  },
  {
   "cell_type": "code",
   "execution_count": 4,
   "metadata": {},
   "outputs": [
    {
     "data": {
      "text/plain": [
       "title        0\n",
       "year      1332\n",
       "cast      1101\n",
       "rating    4136\n",
       "genre        0\n",
       "dtype: int64"
      ]
     },
     "execution_count": 4,
     "metadata": {},
     "output_type": "execute_result"
    }
   ],
   "source": [
    "df.isnull().sum()"
   ]
  },
  {
   "cell_type": "code",
   "execution_count": 5,
   "metadata": {},
   "outputs": [],
   "source": [
    "df.dropna(how='any',inplace=True)"
   ]
  },
  {
   "cell_type": "code",
   "execution_count": 6,
   "metadata": {},
   "outputs": [
    {
     "data": {
      "text/plain": [
       "title     0\n",
       "year      0\n",
       "cast      0\n",
       "rating    0\n",
       "genre     0\n",
       "dtype: int64"
      ]
     },
     "execution_count": 6,
     "metadata": {},
     "output_type": "execute_result"
    }
   ],
   "source": [
    "df.isnull().sum()"
   ]
  },
  {
   "cell_type": "code",
   "execution_count": 7,
   "metadata": {},
   "outputs": [],
   "source": [
    "def actor_1(x):\n",
    "    if x.split(',')[0]: \n",
    "        return x.split(',')[0].strip(' ')\n",
    "    else:\n",
    "        return 'unknown'"
   ]
  },
  {
   "cell_type": "code",
   "execution_count": 8,
   "metadata": {},
   "outputs": [],
   "source": [
    "df['actor_1'] = df['cast'].apply(lambda x: actor_1(x))"
   ]
  },
  {
   "cell_type": "code",
   "execution_count": 9,
   "metadata": {},
   "outputs": [
    {
     "data": {
      "text/html": [
       "<div>\n",
       "<style scoped>\n",
       "    .dataframe tbody tr th:only-of-type {\n",
       "        vertical-align: middle;\n",
       "    }\n",
       "\n",
       "    .dataframe tbody tr th {\n",
       "        vertical-align: top;\n",
       "    }\n",
       "\n",
       "    .dataframe thead th {\n",
       "        text-align: right;\n",
       "    }\n",
       "</style>\n",
       "<table border=\"1\" class=\"dataframe\">\n",
       "  <thead>\n",
       "    <tr style=\"text-align: right;\">\n",
       "      <th></th>\n",
       "      <th>title</th>\n",
       "      <th>year</th>\n",
       "      <th>cast</th>\n",
       "      <th>rating</th>\n",
       "      <th>genre</th>\n",
       "      <th>actor_1</th>\n",
       "    </tr>\n",
       "  </thead>\n",
       "  <tbody>\n",
       "    <tr>\n",
       "      <th>0</th>\n",
       "      <td>Power Rangers Operation Overdrive</td>\n",
       "      <td>2007.0</td>\n",
       "      <td>James Beaufort, Caitlin Murphy, Samuell Benta,...</td>\n",
       "      <td>5.4</td>\n",
       "      <td>Action, Adventure, Sci-Fi</td>\n",
       "      <td>James Beaufort</td>\n",
       "    </tr>\n",
       "    <tr>\n",
       "      <th>1</th>\n",
       "      <td>The South Westerlies</td>\n",
       "      <td>2020.0</td>\n",
       "      <td>Orla Brady, Eileen Walsh, Steve Wall, Ger Ryan</td>\n",
       "      <td>6.0</td>\n",
       "      <td>Drama</td>\n",
       "      <td>Orla Brady</td>\n",
       "    </tr>\n",
       "    <tr>\n",
       "      <th>2</th>\n",
       "      <td>Matthew Gray Gubler: The Unauthorized Documentary</td>\n",
       "      <td>2006.0</td>\n",
       "      <td>Matthew Gray Gubler, Andy Swan, A.J. Cook, Pag...</td>\n",
       "      <td>9.3</td>\n",
       "      <td>Short, Comedy</td>\n",
       "      <td>Matthew Gray Gubler</td>\n",
       "    </tr>\n",
       "    <tr>\n",
       "      <th>3</th>\n",
       "      <td>All In</td>\n",
       "      <td>2003.0</td>\n",
       "      <td>Song Hye-kyo, Lee Byung-hun, Ji Sung, Jeong-wo...</td>\n",
       "      <td>7.8</td>\n",
       "      <td>Action, Drama, Romance</td>\n",
       "      <td>Song Hye-kyo</td>\n",
       "    </tr>\n",
       "    <tr>\n",
       "      <th>4</th>\n",
       "      <td>Billy the Exterminator</td>\n",
       "      <td>2009.0</td>\n",
       "      <td>Billy Bretherton, Rick Bretherton, Donnie Bret...</td>\n",
       "      <td>6.1</td>\n",
       "      <td>Reality-TV</td>\n",
       "      <td>Billy Bretherton</td>\n",
       "    </tr>\n",
       "    <tr>\n",
       "      <th>...</th>\n",
       "      <td>...</td>\n",
       "      <td>...</td>\n",
       "      <td>...</td>\n",
       "      <td>...</td>\n",
       "      <td>...</td>\n",
       "      <td>...</td>\n",
       "    </tr>\n",
       "    <tr>\n",
       "      <th>40092</th>\n",
       "      <td>¿Vieja yo?</td>\n",
       "      <td>2008.0</td>\n",
       "      <td>Marjorie De Sousa, Laureano Olivarez, Jean Car...</td>\n",
       "      <td>8.2</td>\n",
       "      <td>Romance</td>\n",
       "      <td>Marjorie De Sousa</td>\n",
       "    </tr>\n",
       "    <tr>\n",
       "      <th>40093</th>\n",
       "      <td>Ijon Tichy: Raumpilot</td>\n",
       "      <td>2007.0</td>\n",
       "      <td>Oliver Jahn, Nora Tschirner, Peter Princz, Jan...</td>\n",
       "      <td>7.6</td>\n",
       "      <td>Comedy, Sci-Fi</td>\n",
       "      <td>Oliver Jahn</td>\n",
       "    </tr>\n",
       "    <tr>\n",
       "      <th>40095</th>\n",
       "      <td>Keeping It 100</td>\n",
       "      <td>2016.0</td>\n",
       "      <td>Atheana Ritchie, Storie Blake, Andrew Dubitsky...</td>\n",
       "      <td>7.1</td>\n",
       "      <td>Short, Comedy</td>\n",
       "      <td>Atheana Ritchie</td>\n",
       "    </tr>\n",
       "    <tr>\n",
       "      <th>40097</th>\n",
       "      <td>Betty Toons</td>\n",
       "      <td>2002.0</td>\n",
       "      <td>Alejandra Borrero, Alberto León Jaramillo, And...</td>\n",
       "      <td>6.7</td>\n",
       "      <td>Animation</td>\n",
       "      <td>Alejandra Borrero</td>\n",
       "    </tr>\n",
       "    <tr>\n",
       "      <th>40098</th>\n",
       "      <td>Kuuchuu Buranko</td>\n",
       "      <td>2009.0</td>\n",
       "      <td>Romi Park, Yûji Mitsuya, Yumi Sugimoto, Kenji ...</td>\n",
       "      <td>7.4</td>\n",
       "      <td>Animation, Comedy, Drama</td>\n",
       "      <td>Romi Park</td>\n",
       "    </tr>\n",
       "  </tbody>\n",
       "</table>\n",
       "<p>35439 rows × 6 columns</p>\n",
       "</div>"
      ],
      "text/plain": [
       "                                                   title    year  \\\n",
       "0                      Power Rangers Operation Overdrive  2007.0   \n",
       "1                                   The South Westerlies  2020.0   \n",
       "2      Matthew Gray Gubler: The Unauthorized Documentary  2006.0   \n",
       "3                                                 All In  2003.0   \n",
       "4                                 Billy the Exterminator  2009.0   \n",
       "...                                                  ...     ...   \n",
       "40092                                         ¿Vieja yo?  2008.0   \n",
       "40093                              Ijon Tichy: Raumpilot  2007.0   \n",
       "40095                                     Keeping It 100  2016.0   \n",
       "40097                                        Betty Toons  2002.0   \n",
       "40098                                    Kuuchuu Buranko  2009.0   \n",
       "\n",
       "                                                    cast  rating  \\\n",
       "0      James Beaufort, Caitlin Murphy, Samuell Benta,...     5.4   \n",
       "1         Orla Brady, Eileen Walsh, Steve Wall, Ger Ryan     6.0   \n",
       "2      Matthew Gray Gubler, Andy Swan, A.J. Cook, Pag...     9.3   \n",
       "3      Song Hye-kyo, Lee Byung-hun, Ji Sung, Jeong-wo...     7.8   \n",
       "4      Billy Bretherton, Rick Bretherton, Donnie Bret...     6.1   \n",
       "...                                                  ...     ...   \n",
       "40092  Marjorie De Sousa, Laureano Olivarez, Jean Car...     8.2   \n",
       "40093  Oliver Jahn, Nora Tschirner, Peter Princz, Jan...     7.6   \n",
       "40095  Atheana Ritchie, Storie Blake, Andrew Dubitsky...     7.1   \n",
       "40097  Alejandra Borrero, Alberto León Jaramillo, And...     6.7   \n",
       "40098  Romi Park, Yûji Mitsuya, Yumi Sugimoto, Kenji ...     7.4   \n",
       "\n",
       "                                       genre              actor_1  \n",
       "0      Action, Adventure, Sci-Fi                   James Beaufort  \n",
       "1                          Drama                       Orla Brady  \n",
       "2                  Short, Comedy              Matthew Gray Gubler  \n",
       "3         Action, Drama, Romance                     Song Hye-kyo  \n",
       "4                     Reality-TV                 Billy Bretherton  \n",
       "...                                      ...                  ...  \n",
       "40092                    Romance                Marjorie De Sousa  \n",
       "40093             Comedy, Sci-Fi                      Oliver Jahn  \n",
       "40095              Short, Comedy                  Atheana Ritchie  \n",
       "40097                  Animation                Alejandra Borrero  \n",
       "40098   Animation, Comedy, Drama                        Romi Park  \n",
       "\n",
       "[35439 rows x 6 columns]"
      ]
     },
     "execution_count": 9,
     "metadata": {},
     "output_type": "execute_result"
    }
   ],
   "source": [
    "df"
   ]
  },
  {
   "cell_type": "code",
   "execution_count": 10,
   "metadata": {},
   "outputs": [],
   "source": [
    "def actor_2(x):\n",
    "    if len(x.split(','))>1: \n",
    "        return x.split(',')[1].strip(' ')\n",
    "    else:\n",
    "        return 'unknown'"
   ]
  },
  {
   "cell_type": "code",
   "execution_count": 11,
   "metadata": {},
   "outputs": [],
   "source": [
    "df['actor_2'] = df['cast'].apply(lambda x: actor_2(x))"
   ]
  },
  {
   "cell_type": "code",
   "execution_count": 12,
   "metadata": {},
   "outputs": [],
   "source": [
    "def actor_3(x):\n",
    "    if len(x.split(','))>2: \n",
    "        return x.split(',')[2].strip(' ')\n",
    "    else:\n",
    "        return 'unknown'"
   ]
  },
  {
   "cell_type": "code",
   "execution_count": 13,
   "metadata": {},
   "outputs": [],
   "source": [
    "df['actor_3'] = df['cast'].apply(lambda x: actor_3(x))"
   ]
  },
  {
   "cell_type": "code",
   "execution_count": 14,
   "metadata": {},
   "outputs": [],
   "source": [
    "def actor_4(x):\n",
    "    if len(x.split(','))>3: \n",
    "        return x.split(',')[3].strip(' ')\n",
    "    else:\n",
    "        return 'unknown'"
   ]
  },
  {
   "cell_type": "code",
   "execution_count": 15,
   "metadata": {},
   "outputs": [],
   "source": [
    "df['actor_4'] = df['cast'].apply(lambda x: actor_4(x))"
   ]
  },
  {
   "cell_type": "code",
   "execution_count": 16,
   "metadata": {},
   "outputs": [],
   "source": [
    "df.drop(['cast'],axis=1,inplace=True)"
   ]
  },
  {
   "cell_type": "code",
   "execution_count": 17,
   "metadata": {},
   "outputs": [],
   "source": [
    "def genre(x):\n",
    "    data = x.split(',')\n",
    "    each_data = []\n",
    "    for each in data:\n",
    "        each_data.append(each.strip(' '))\n",
    "    get_data = ' '.join(each_data)\n",
    "    return get_data    "
   ]
  },
  {
   "cell_type": "code",
   "execution_count": 18,
   "metadata": {},
   "outputs": [],
   "source": [
    "df['genre'] = df['genre'].apply(lambda x: genre(x))"
   ]
  },
  {
   "cell_type": "code",
   "execution_count": 19,
   "metadata": {},
   "outputs": [],
   "source": [
    "df['comb'] = df['actor_1']+' '+df['actor_2']+' '+df['actor_3']+' '+df['actor_4']+' '+df['genre']"
   ]
  },
  {
   "cell_type": "code",
   "execution_count": 20,
   "metadata": {},
   "outputs": [],
   "source": [
    "df['title'] = df['title'].str.lower()"
   ]
  },
  {
   "cell_type": "code",
   "execution_count": 21,
   "metadata": {},
   "outputs": [
    {
     "data": {
      "text/plain": [
       "title      0\n",
       "year       0\n",
       "rating     0\n",
       "genre      0\n",
       "actor_1    0\n",
       "actor_2    0\n",
       "actor_3    0\n",
       "actor_4    0\n",
       "comb       0\n",
       "dtype: int64"
      ]
     },
     "execution_count": 21,
     "metadata": {},
     "output_type": "execute_result"
    }
   ],
   "source": [
    "df.isnull().sum()"
   ]
  },
  {
   "cell_type": "code",
   "execution_count": 22,
   "metadata": {},
   "outputs": [
    {
     "data": {
      "text/plain": [
       "0"
      ]
     },
     "execution_count": 22,
     "metadata": {},
     "output_type": "execute_result"
    }
   ],
   "source": [
    "df.duplicated().sum()"
   ]
  },
  {
   "cell_type": "code",
   "execution_count": 23,
   "metadata": {},
   "outputs": [],
   "source": [
    "def title_cleaning(x):\n",
    "    if \":\" in x:\n",
    "        return x.split(\":\")[0].strip(' ')\n",
    "    else:\n",
    "        return x"
   ]
  },
  {
   "cell_type": "code",
   "execution_count": 24,
   "metadata": {},
   "outputs": [],
   "source": [
    "df['title'] = df['title'].apply(lambda x:title_cleaning(x))"
   ]
  },
  {
   "cell_type": "code",
   "execution_count": 25,
   "metadata": {},
   "outputs": [
    {
     "data": {
      "text/plain": [
       "0        power rangers operation overdrive\n",
       "1                     the south westerlies\n",
       "2                      matthew gray gubler\n",
       "3                                   all in\n",
       "4                   billy the exterminator\n",
       "                       ...                \n",
       "40092                           ¿vieja yo?\n",
       "40093                           ijon tichy\n",
       "40095                       keeping it 100\n",
       "40097                          betty toons\n",
       "40098                      kuuchuu buranko\n",
       "Name: title, Length: 35439, dtype: object"
      ]
     },
     "execution_count": 25,
     "metadata": {},
     "output_type": "execute_result"
    }
   ],
   "source": [
    "df['title']"
   ]
  },
  {
   "cell_type": "code",
   "execution_count": 26,
   "metadata": {},
   "outputs": [],
   "source": [
    "df[(df['year']>=2021.0) & (df['year']<=2023.0)]\n",
    "random_sample_size = 5  \n"
   ]
  },
  {
   "cell_type": "code",
   "execution_count": 27,
   "metadata": {},
   "outputs": [
    {
     "data": {
      "text/html": [
       "<div>\n",
       "<style scoped>\n",
       "    .dataframe tbody tr th:only-of-type {\n",
       "        vertical-align: middle;\n",
       "    }\n",
       "\n",
       "    .dataframe tbody tr th {\n",
       "        vertical-align: top;\n",
       "    }\n",
       "\n",
       "    .dataframe thead th {\n",
       "        text-align: right;\n",
       "    }\n",
       "</style>\n",
       "<table border=\"1\" class=\"dataframe\">\n",
       "  <thead>\n",
       "    <tr style=\"text-align: right;\">\n",
       "      <th></th>\n",
       "      <th>title</th>\n",
       "      <th>year</th>\n",
       "      <th>rating</th>\n",
       "      <th>genre</th>\n",
       "      <th>actor_1</th>\n",
       "      <th>actor_2</th>\n",
       "      <th>actor_3</th>\n",
       "      <th>actor_4</th>\n",
       "      <th>comb</th>\n",
       "    </tr>\n",
       "  </thead>\n",
       "  <tbody>\n",
       "    <tr>\n",
       "      <th>19452</th>\n",
       "      <td>t.bag and the revenge of the t.set</td>\n",
       "      <td>1989.0</td>\n",
       "      <td>8.2</td>\n",
       "      <td>Fantasy</td>\n",
       "      <td>Elizabeth Estensen</td>\n",
       "      <td>John Hasler</td>\n",
       "      <td>Kellie Bright</td>\n",
       "      <td>Jan Holden</td>\n",
       "      <td>Elizabeth Estensen John Hasler Kellie Bright J...</td>\n",
       "    </tr>\n",
       "    <tr>\n",
       "      <th>6793</th>\n",
       "      <td>cousin skeeter</td>\n",
       "      <td>1998.0</td>\n",
       "      <td>6.8</td>\n",
       "      <td>Comedy Family</td>\n",
       "      <td>Rondell Sheridan</td>\n",
       "      <td>Angela Means</td>\n",
       "      <td>Meagan Good</td>\n",
       "      <td>Robert Ri'chard</td>\n",
       "      <td>Rondell Sheridan Angela Means Meagan Good Robe...</td>\n",
       "    </tr>\n",
       "    <tr>\n",
       "      <th>19908</th>\n",
       "      <td>choccywoccydoodah</td>\n",
       "      <td>2011.0</td>\n",
       "      <td>7.3</td>\n",
       "      <td>Documentary</td>\n",
       "      <td>Christine Taylor</td>\n",
       "      <td>Dave Ratcliffe</td>\n",
       "      <td>Tom Robertson</td>\n",
       "      <td>Whoopi Goldberg</td>\n",
       "      <td>Christine Taylor Dave Ratcliffe Tom Robertson ...</td>\n",
       "    </tr>\n",
       "    <tr>\n",
       "      <th>34692</th>\n",
       "      <td>yo yogi!</td>\n",
       "      <td>1991.0</td>\n",
       "      <td>5.0</td>\n",
       "      <td>Animation Adventure Comedy</td>\n",
       "      <td>Greg Burson</td>\n",
       "      <td>Don Messick</td>\n",
       "      <td>Rob Paulsen</td>\n",
       "      <td>Kath Soucie</td>\n",
       "      <td>Greg Burson Don Messick Rob Paulsen Kath Souci...</td>\n",
       "    </tr>\n",
       "    <tr>\n",
       "      <th>21231</th>\n",
       "      <td>short adam</td>\n",
       "      <td>2021.0</td>\n",
       "      <td>9.2</td>\n",
       "      <td>Comedy Drama</td>\n",
       "      <td>Adam Lopez</td>\n",
       "      <td>Kristin Elliott</td>\n",
       "      <td>Celia Imrie</td>\n",
       "      <td>Bruce Thomas</td>\n",
       "      <td>Adam Lopez Kristin Elliott Celia Imrie Bruce T...</td>\n",
       "    </tr>\n",
       "  </tbody>\n",
       "</table>\n",
       "</div>"
      ],
      "text/plain": [
       "                                    title    year  rating  \\\n",
       "19452  t.bag and the revenge of the t.set  1989.0     8.2   \n",
       "6793                       cousin skeeter  1998.0     6.8   \n",
       "19908                   choccywoccydoodah  2011.0     7.3   \n",
       "34692                            yo yogi!  1991.0     5.0   \n",
       "21231                          short adam  2021.0     9.2   \n",
       "\n",
       "                            genre             actor_1          actor_2  \\\n",
       "19452                     Fantasy  Elizabeth Estensen      John Hasler   \n",
       "6793                Comedy Family    Rondell Sheridan     Angela Means   \n",
       "19908                 Documentary    Christine Taylor   Dave Ratcliffe   \n",
       "34692  Animation Adventure Comedy         Greg Burson      Don Messick   \n",
       "21231                Comedy Drama          Adam Lopez  Kristin Elliott   \n",
       "\n",
       "             actor_3          actor_4  \\\n",
       "19452  Kellie Bright       Jan Holden   \n",
       "6793     Meagan Good  Robert Ri'chard   \n",
       "19908  Tom Robertson  Whoopi Goldberg   \n",
       "34692    Rob Paulsen      Kath Soucie   \n",
       "21231    Celia Imrie     Bruce Thomas   \n",
       "\n",
       "                                                    comb  \n",
       "19452  Elizabeth Estensen John Hasler Kellie Bright J...  \n",
       "6793   Rondell Sheridan Angela Means Meagan Good Robe...  \n",
       "19908  Christine Taylor Dave Ratcliffe Tom Robertson ...  \n",
       "34692  Greg Burson Don Messick Rob Paulsen Kath Souci...  \n",
       "21231  Adam Lopez Kristin Elliott Celia Imrie Bruce T...  "
      ]
     },
     "execution_count": 27,
     "metadata": {},
     "output_type": "execute_result"
    }
   ],
   "source": [
    "df.sample(n=random_sample_size, random_state=4)"
   ]
  },
  {
   "cell_type": "code",
   "execution_count": 31,
   "metadata": {},
   "outputs": [],
   "source": [
    "combination = list(df['comb'])"
   ]
  },
  {
   "cell_type": "code",
   "execution_count": 36,
   "metadata": {},
   "outputs": [],
   "source": [
    "from sklearn.feature_extraction.text import TfidfVectorizer\n",
    "tfv = TfidfVectorizer(min_df=3,  max_features=None,\n",
    "            strip_accents='unicode', analyzer='word',token_pattern=r'\\w{1,}',\n",
    "            ngram_range=(1, 3),\n",
    "            stop_words = 'english')"
   ]
  },
  {
   "cell_type": "code",
   "execution_count": 34,
   "metadata": {},
   "outputs": [],
   "source": [
    "tfv = TfidfVectorizer()"
   ]
  },
  {
   "cell_type": "code",
   "execution_count": null,
   "metadata": {},
   "outputs": [],
   "source": [
    "# Fitting the TF-IDF on the 'overview' text\n",
    "tfv_matrix = tfv.fit_transform(df['comb'])\n",
    "print(tfv_matrix)\n",
    "print(tfv_matrix.shape)"
   ]
  },
  {
   "cell_type": "code",
   "execution_count": null,
   "metadata": {},
   "outputs": [],
   "source": [
    "# Import linear_kernel\n",
    "from sklearn.metrics.pairwise import linear_kernel\n",
    "\n",
    "# Compute the cosine similarity matrix\n",
    "cosine_sim = linear_kernel(tfv_matrix, tfv_matrix)"
   ]
  },
  {
   "cell_type": "code",
   "execution_count": 50,
   "metadata": {},
   "outputs": [],
   "source": [
    "import pandas as pd\n",
    "from sklearn.metrics.pairwise import cosine_similarity\n",
    "\n",
    "# Calculate cosine similarity matrix\n",
    "features = df[['rating', 'year']].sample(20000,random_state=42)  # Use the features you want for similarity calculation\n",
    "similarity_matrix = cosine_similarity(features)\n"
   ]
  },
  {
   "cell_type": "code",
   "execution_count": 52,
   "metadata": {},
   "outputs": [
    {
     "name": "stdout",
     "output_type": "stream",
     "text": [
      "                  title\n",
      "20318             s.c.i\n",
      "1497   remington steele\n",
      "11178     barely famous\n",
      "18646  17.3 about a sex\n"
     ]
    }
   ],
   "source": [
    "target_title = 'college romance'\n",
    "target_index = df[df['title'] == target_title].index[0]\n",
    "similar_indices = similarity_matrix[target_index].argsort()[-5:-1][::-1]  # Get top 5 similar indices\n",
    "# Display recommended shows\n",
    "recommended_shows = df.iloc[similar_indices]\n",
    "print(recommended_shows[['title']])\n"
   ]
  }
 ],
 "metadata": {
  "kernelspec": {
   "display_name": "venv",
   "language": "python",
   "name": "python3"
  },
  "language_info": {
   "codemirror_mode": {
    "name": "ipython",
    "version": 3
   },
   "file_extension": ".py",
   "mimetype": "text/x-python",
   "name": "python",
   "nbconvert_exporter": "python",
   "pygments_lexer": "ipython3",
   "version": "3.10.7"
  },
  "orig_nbformat": 4
 },
 "nbformat": 4,
 "nbformat_minor": 2
}
